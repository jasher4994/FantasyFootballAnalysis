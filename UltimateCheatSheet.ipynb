{
 "cells": [
  {
   "cell_type": "markdown",
   "metadata": {},
   "source": [
    "# Ultimate Cheat Sheet for FPL"
   ]
  },
  {
   "cell_type": "markdown",
   "metadata": {},
   "source": [
    "This file creates the ultimate cheat sheet for FPL by visualising top players ROI alongisde their upcoming fixtures.This integrates the two main components when picking a player."
   ]
  },
  {
   "cell_type": "markdown",
   "metadata": {},
   "source": [
    "### Package import"
   ]
  },
  {
   "cell_type": "code",
   "execution_count": 1,
   "metadata": {},
   "outputs": [],
   "source": [
    "import requests\n",
    "from bs4 import BeautifulSoup\n",
    "import numpy as np\n",
    "import pandas as pd\n",
    "import matplotlib.pyplot as plt\n",
    "import seaborn as sns"
   ]
  },
  {
   "cell_type": "markdown",
   "metadata": {},
   "source": [
    "### Players"
   ]
  },
  {
   "cell_type": "code",
   "execution_count": 2,
   "metadata": {},
   "outputs": [],
   "source": [
    "df = pd.read_csv(\"https://raw.githubusercontent.com/vaastav/Fantasy-Premier-League/master/data/2020-21/players_raw.csv\")\n",
    "df[\"position\"] = df[\"element_type\"]\n",
    "df.position = df.position.replace([1,2,3,4], [\"GK\", \"DEF\", \"MID\", \"FWD\"])\n",
    "df.now_cost = df.now_cost/10\n",
    "\n",
    "\n",
    "\"\"\"roi\"\"\"\n",
    "roi = df.loc[:, [\"web_name\", \"position\", \"total_points\", \"now_cost\", \"team\"]]\n",
    "roi[\"roi\"] = roi[\"total_points\"]/roi[\"now_cost\"]\n",
    "roi = roi.sort_values(by = \"roi\", ascending = False)\n",
    "\n",
    "roi.team = roi.team.replace([1,2,3,4,5,6,7,8,9,10,11,12,13,14,15,16,17,18,19,20],\n",
    "                [\"Arsenal\", \"Aston Villa\", \"Brighton\", \"Burnley\", \"Chelsea\", \n",
    "                \"Crystal Palace\", \"Everton\", \"Fulham\", \"Leicester\", \"Leeds\",\n",
    "                \"Liverpool\", \"Manchester City\", \"Manchester United\",\n",
    "                \"Newcastle\", \"Sheffield Utd\", \"Southampton\", \"Tottenham\",\n",
    "                \"West Brom\", \"West Ham\", \"Wolverhampton\"])\n",
    "\n",
    "roi_GK = roi[roi.position == \"GK\"]\n",
    "roi_GK = roi_GK.iloc[0:10, :]\n",
    "\n",
    "roi_DEF = roi[roi.position == \"DEF\"]\n",
    "roi_DEF = roi_DEF.iloc[0:10, :]\n",
    "\n",
    "roi_MID = roi[roi.position == \"MID\"]\n",
    "roi_MID = roi_MID.iloc[0:10, :]\n",
    "\n",
    "roi_FWD = roi[roi.position == \"FWD\"]\n",
    "roi_FWD = roi_FWD.iloc[0:10, :]"
   ]
  },
  {
   "cell_type": "markdown",
   "metadata": {},
   "source": [
    "### Expected Goals"
   ]
  },
  {
   "cell_type": "code",
   "execution_count": 3,
   "metadata": {},
   "outputs": [],
   "source": [
    "url = \"https://playerdatabase247.com/include_premier_league_fixture_tracker_uusi.php?listtype=expgoals\"\n",
    "r = requests.get(url)\n",
    "#print(r.status_code)\n",
    "\n",
    "soup = BeautifulSoup(r.text, 'html.parser')\n",
    "table = soup.find('table')\n",
    "cells = table.find_all(\"td\")\n",
    "\n",
    "def scrape(cells):\n",
    "    lizt = []\n",
    "    for cell in cells:\n",
    "        text = cell.text.strip()\n",
    "        lizt.append(text)\n",
    "    return(lizt)\n",
    "    \n",
    "output = scrape(cells)\n",
    "\n",
    "output = np.array(output)\n",
    "output = output.reshape(21,8)\n",
    "output = pd.DataFrame(output)\n",
    "header_row = 0\n",
    "output.columns = output.iloc[header_row]\n",
    "output = output.drop(header_row)\n",
    "output = output.reset_index(drop = True)\n",
    "output.columns = [\"team\", \"gw1\", \"gw2\", \"gw3\", \"gw4\", \"gw5\", \"gw6\", \"total\"]\n",
    "\n",
    "def remove_char(string):\n",
    "    import re\n",
    "    string = re.sub(\"[A-Za-z]\", \"\", string);\n",
    "    return string\n",
    "\n",
    "output.gw1 = output.gw1.apply(remove_char)\n",
    "output.gw1 = output.gw1.apply(float)\n",
    "output.gw2 = output.gw2.apply(remove_char)\n",
    "output.gw2 = output.gw2.apply(float)\n",
    "output.gw3 = output.gw3.apply(remove_char)\n",
    "output.gw3 = output.gw3.apply(float)\n",
    "output.gw4 = output.gw4.apply(remove_char)\n",
    "output.gw4 = output.gw4.apply(float)\n",
    "output.gw5 = output.gw5.apply(remove_char)\n",
    "output.gw5 = output.gw5.apply(float)\n",
    "output.gw6 = output.gw6.apply(remove_char)\n",
    "output.gw6 = output.gw6.apply(float)\n",
    "EG = output"
   ]
  },
  {
   "cell_type": "markdown",
   "metadata": {},
   "source": [
    "### Expected Clean Sheets"
   ]
  },
  {
   "cell_type": "code",
   "execution_count": 4,
   "metadata": {},
   "outputs": [],
   "source": [
    "url = \"https://playerdatabase247.com/include_premier_league_fixture_tracker_uusi.php?listtype=cs\"\n",
    "\n",
    "r = requests.get(url)\n",
    "#print(r.status_code)\n",
    "\n",
    "soup = BeautifulSoup(r.text, 'html.parser')\n",
    "table = soup.find('table')\n",
    "cells = table.find_all(\"td\")\n",
    "\n",
    "output = scrape(cells)\n",
    "\n",
    "output = np.array(output)\n",
    "output = output.reshape(21,8)\n",
    "output = pd.DataFrame(output)\n",
    "header_row = 0\n",
    "output.columns = output.iloc[header_row]\n",
    "output = output.drop(header_row)\n",
    "output = output.reset_index(drop = True)\n",
    "output.columns = [\"team\", \"gw1\", \"gw2\", \"gw3\", \"gw4\", \"gw5\", \"gw6\", \"total\"]\n",
    "\n",
    "output.gw1 = output.gw1.apply(remove_char)\n",
    "output.gw1 = output.gw1.apply(float)\n",
    "output.gw2 = output.gw2.apply(remove_char)\n",
    "output.gw2 = output.gw2.apply(float)\n",
    "output.gw3 = output.gw3.apply(remove_char)\n",
    "output.gw3 = output.gw3.apply(float)\n",
    "output.gw4 = output.gw4.apply(remove_char)\n",
    "output.gw4 = output.gw4.apply(float)\n",
    "output.gw5 = output.gw5.apply(remove_char)\n",
    "output.gw5 = output.gw5.apply(float)\n",
    "output.gw6 = output.gw6.apply(remove_char)\n",
    "output.gw6 = output.gw6.apply(float)\n",
    "ECS = output"
   ]
  },
  {
   "cell_type": "markdown",
   "metadata": {},
   "source": [
    "### Merging players with fixtures data"
   ]
  },
  {
   "cell_type": "code",
   "execution_count": null,
   "metadata": {},
   "outputs": [],
   "source": [
    "EG[\"EG - one week\"] = EG.gw1\n",
    "EG[\"EG - three week\"] = EG.gw1 + EG.gw2 + EG.gw3\n",
    "EG[\"EG - six week\"] = EG.total\n",
    "EG = EG.iloc[:,[0,8,9,10]]\n",
    "\n",
    "ECS[\"ECS - one week\"] = ECS.gw1\n",
    "ECS[\"ECS - three week\"] = ECS.gw1 + ECS.gw2 + ECS.gw3\n",
    "ECS[\"ECS - six week\"] = ECS.total\n",
    "ECS = ECS.iloc[:,[0,8,9,10]]\n",
    "\n",
    "full_df = pd.merge(roi,EG, on = \"team\")\n",
    "full_df = pd.merge(full_df, ECS, on = \"team\")\n",
    "\n",
    "full_df = full_df.sort_values(by = \"roi\", ascending = False)\n",
    "\n",
    "\n",
    "float_cols = ['total_points', 'now_cost','roi',\n",
    "       'EG - one week', 'EG - three week', 'EG - six week', 'ECS - one week',\n",
    "       'ECS - three week', 'ECS - six week', 'ECS - one week',\n",
    "       'ECS - three week', 'ECS - six week']\n",
    "\n",
    "for i in float_cols:\n",
    "    full_df[i] = pd.to_numeric(full_df[i])\n",
    "    \n",
    "GK = full_df[full_df.position == \"GK\"]\n",
    "GK = GK.iloc[0:20,:]\n",
    "\n",
    "DEF = full_df[full_df.position == \"DEF\"]\n",
    "DEF = DEF.iloc[0:15,:]\n",
    "\n",
    "MID = full_df[full_df.position == \"MID\"]\n",
    "MID = MID.iloc[0:15,:]\n",
    "\n",
    "FWD = full_df[full_df.position == \"FWD\"]\n",
    "FWD = FWD.iloc[0:15,:]"
   ]
  }
 ],
 "metadata": {
  "kernelspec": {
   "display_name": "Python 3",
   "language": "python",
   "name": "python3"
  },
  "language_info": {
   "codemirror_mode": {
    "name": "ipython",
    "version": 3
   },
   "file_extension": ".py",
   "mimetype": "text/x-python",
   "name": "python",
   "nbconvert_exporter": "python",
   "pygments_lexer": "ipython3",
   "version": "3.7.4"
  }
 },
 "nbformat": 4,
 "nbformat_minor": 2
}
